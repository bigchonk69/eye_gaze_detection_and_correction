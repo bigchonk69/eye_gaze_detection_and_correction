{
 "cells": [
  {
   "cell_type": "code",
   "execution_count": null,
   "id": "d2bd3c2f",
   "metadata": {},
   "outputs": [],
   "source": [
    "conda env create --file environment.yml\n"
   ]
  },
  {
   "cell_type": "code",
   "execution_count": null,
   "id": "09f78409",
   "metadata": {},
   "outputs": [],
   "source": [
    "conda activate GazeTracking"
   ]
  },
  {
   "cell_type": "code",
   "execution_count": null,
   "id": "6c3a53a2",
   "metadata": {},
   "outputs": [],
   "source": [
    "python example.py"
   ]
  },
  {
   "cell_type": "code",
   "execution_count": null,
   "id": "83ae0e90",
   "metadata": {},
   "outputs": [],
   "source": []
  }
 ],
 "metadata": {
  "kernelspec": {
   "display_name": "Python 3 (ipykernel)",
   "language": "python",
   "name": "python3"
  },
  "language_info": {
   "codemirror_mode": {
    "name": "ipython",
    "version": 3
   },
   "file_extension": ".py",
   "mimetype": "text/x-python",
   "name": "python",
   "nbconvert_exporter": "python",
   "pygments_lexer": "ipython3",
   "version": "3.10.9"
  }
 },
 "nbformat": 4,
 "nbformat_minor": 5
}
